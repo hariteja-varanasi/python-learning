{
 "cells": [
  {
   "cell_type": "code",
   "execution_count": 27,
   "id": "6c949b25-3177-47ee-bfa6-3ca5ddd0e6cd",
   "metadata": {},
   "outputs": [],
   "source": [
    "my_list=[1,3,5,6,7,3,5,3]"
   ]
  },
  {
   "cell_type": "code",
   "execution_count": 30,
   "id": "c75ac31f-2bd7-4e99-9d4b-d6f6b0a91cb4",
   "metadata": {},
   "outputs": [
    {
     "data": {
      "text/plain": [
       "3"
      ]
     },
     "execution_count": 30,
     "metadata": {},
     "output_type": "execute_result"
    }
   ],
   "source": [
    "my_list.count(3)"
   ]
  },
  {
   "cell_type": "code",
   "execution_count": 31,
   "id": "ba957009-09e0-4f45-9fce-3a4345695e19",
   "metadata": {},
   "outputs": [],
   "source": [
    "def find_most_frequent_num(num_list):\n",
    "    my_dict={}\n",
    "    index=0\n",
    "    num_count=[]\n",
    "    for num in num_list:\n",
    "        my_dict[index] = (index,num_list.count(num))\n",
    "        num_count.append(my_list.count(num))\n",
    "        index = index + 1    \n",
    "    max_count = max(num_count)\n",
    "    for key,value in my_dict.values():\n",
    "        if value==max_count:\n",
    "            return key\n",
    "    return 0"
   ]
  },
  {
   "cell_type": "code",
   "execution_count": 32,
   "id": "b103af9e-05dc-4fbe-b076-58f184ae3445",
   "metadata": {},
   "outputs": [
    {
     "data": {
      "text/plain": [
       "1"
      ]
     },
     "execution_count": 32,
     "metadata": {},
     "output_type": "execute_result"
    }
   ],
   "source": [
    "find_most_frequent_num(my_list)"
   ]
  },
  {
   "cell_type": "code",
   "execution_count": 33,
   "id": "b13a9d4c-19dd-4b4d-bc42-b424fb6d299c",
   "metadata": {},
   "outputs": [],
   "source": [
    "def find_if_prime(num):\n",
    "    if num<=1:\n",
    "        return False\n",
    "    for x in range(2,int(num**0.5)+1):\n",
    "        if num%x==0:\n",
    "            return False\n",
    "    return True"
   ]
  },
  {
   "cell_type": "code",
   "execution_count": 40,
   "id": "e1057bb5-da51-4655-8061-ca88dcf5c223",
   "metadata": {},
   "outputs": [
    {
     "data": {
      "text/plain": [
       "True"
      ]
     },
     "execution_count": 40,
     "metadata": {},
     "output_type": "execute_result"
    }
   ],
   "source": [
    "find_if_prime(11)"
   ]
  },
  {
   "cell_type": "code",
   "execution_count": null,
   "id": "f534b931-a494-472f-aac3-bb560475893c",
   "metadata": {},
   "outputs": [],
   "source": []
  }
 ],
 "metadata": {
  "kernelspec": {
   "display_name": "Python 3 (ipykernel)",
   "language": "python",
   "name": "python3"
  },
  "language_info": {
   "codemirror_mode": {
    "name": "ipython",
    "version": 3
   },
   "file_extension": ".py",
   "mimetype": "text/x-python",
   "name": "python",
   "nbconvert_exporter": "python",
   "pygments_lexer": "ipython3",
   "version": "3.13.5"
  }
 },
 "nbformat": 4,
 "nbformat_minor": 5
}
