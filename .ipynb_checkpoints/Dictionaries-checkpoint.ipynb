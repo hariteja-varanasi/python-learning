{
 "cells": [
  {
   "cell_type": "code",
   "execution_count": 1,
   "id": "4be81773-b8da-4204-9106-1151866e60c8",
   "metadata": {},
   "outputs": [],
   "source": [
    "my_dict = {'key_one':'value_one', 'key_two':'value_two'}"
   ]
  },
  {
   "cell_type": "code",
   "execution_count": 2,
   "id": "a8405c7f-d441-40b6-8da0-4545e193ced5",
   "metadata": {},
   "outputs": [
    {
     "data": {
      "text/plain": [
       "{'key_one': 'value_one', 'key_two': 'value_two'}"
      ]
     },
     "execution_count": 2,
     "metadata": {},
     "output_type": "execute_result"
    }
   ],
   "source": [
    "my_dict"
   ]
  },
  {
   "cell_type": "code",
   "execution_count": 3,
   "id": "5e4bf70e-496f-438a-a5c7-9401e2e205b8",
   "metadata": {},
   "outputs": [
    {
     "data": {
      "text/plain": [
       "'value_one'"
      ]
     },
     "execution_count": 3,
     "metadata": {},
     "output_type": "execute_result"
    }
   ],
   "source": [
    "my_dict['key_one']"
   ]
  },
  {
   "cell_type": "code",
   "execution_count": 4,
   "id": "f83a3b6d-78e0-42ce-96e1-34c8787db9dc",
   "metadata": {},
   "outputs": [],
   "source": [
    "prices_lookup = {'apple':2.99,'oranges':1.99,'milk':5.80}"
   ]
  },
  {
   "cell_type": "code",
   "execution_count": 5,
   "id": "4c09b98f-a3a2-48e1-8fc4-a177a381ff70",
   "metadata": {},
   "outputs": [
    {
     "data": {
      "text/plain": [
       "2.99"
      ]
     },
     "execution_count": 5,
     "metadata": {},
     "output_type": "execute_result"
    }
   ],
   "source": [
    "prices_lookup['apple']"
   ]
  },
  {
   "cell_type": "code",
   "execution_count": 6,
   "id": "796bb2e3-adab-417e-ae89-ea3a5cd133c7",
   "metadata": {},
   "outputs": [],
   "source": [
    "d = {'k_one':123,'k_two':[0,1,2],'k_three':{'inside_key':100}}"
   ]
  },
  {
   "cell_type": "code",
   "execution_count": 7,
   "id": "dccc8c94-4639-4c3a-8fc0-61dda8d21576",
   "metadata": {},
   "outputs": [
    {
     "data": {
      "text/plain": [
       "{'k_one': 123, 'k_two': [0, 1, 2], 'k_three': {'inside_key': 100}}"
      ]
     },
     "execution_count": 7,
     "metadata": {},
     "output_type": "execute_result"
    }
   ],
   "source": [
    "d"
   ]
  },
  {
   "cell_type": "code",
   "execution_count": 9,
   "id": "e92dc316-a693-40e3-9299-404d8cda21bf",
   "metadata": {},
   "outputs": [
    {
     "data": {
      "text/plain": [
       "[0, 1, 2]"
      ]
     },
     "execution_count": 9,
     "metadata": {},
     "output_type": "execute_result"
    }
   ],
   "source": [
    "d['k_two']"
   ]
  },
  {
   "cell_type": "code",
   "execution_count": 10,
   "id": "6b0641d8-8c30-46e8-8aab-1cf91ad161c6",
   "metadata": {},
   "outputs": [
    {
     "data": {
      "text/plain": [
       "100"
      ]
     },
     "execution_count": 10,
     "metadata": {},
     "output_type": "execute_result"
    }
   ],
   "source": [
    "d['k_three']['inside_key']"
   ]
  },
  {
   "cell_type": "code",
   "execution_count": 11,
   "id": "97e4e48b-d1a7-4133-9780-f507614c41c5",
   "metadata": {},
   "outputs": [
    {
     "data": {
      "text/plain": [
       "2"
      ]
     },
     "execution_count": 11,
     "metadata": {},
     "output_type": "execute_result"
    }
   ],
   "source": [
    "d['k_two'][2]"
   ]
  },
  {
   "cell_type": "code",
   "execution_count": 12,
   "id": "396718be-9514-465e-9ff5-d1d5fccece83",
   "metadata": {},
   "outputs": [],
   "source": [
    "d = {'key_one':['a', 'b', 'c']}"
   ]
  },
  {
   "cell_type": "code",
   "execution_count": 13,
   "id": "dbe71a36-1e56-4936-8852-ddca59207cfc",
   "metadata": {},
   "outputs": [
    {
     "data": {
      "text/plain": [
       "{'key_one': ['a', 'b', 'c']}"
      ]
     },
     "execution_count": 13,
     "metadata": {},
     "output_type": "execute_result"
    }
   ],
   "source": [
    "d"
   ]
  },
  {
   "cell_type": "code",
   "execution_count": 14,
   "id": "f23d4851-8c34-484a-9426-dc42d95c8914",
   "metadata": {},
   "outputs": [],
   "source": [
    "my_list = d['key_one']"
   ]
  },
  {
   "cell_type": "code",
   "execution_count": 15,
   "id": "14222785-ceab-4fae-8c4d-595132f7d79e",
   "metadata": {},
   "outputs": [
    {
     "data": {
      "text/plain": [
       "['a', 'b', 'c']"
      ]
     },
     "execution_count": 15,
     "metadata": {},
     "output_type": "execute_result"
    }
   ],
   "source": [
    "my_list"
   ]
  },
  {
   "cell_type": "code",
   "execution_count": 16,
   "id": "c9b48c80-5c0e-4824-847f-bc29d001c63c",
   "metadata": {},
   "outputs": [],
   "source": [
    "letter = my_list[2]"
   ]
  },
  {
   "cell_type": "code",
   "execution_count": 17,
   "id": "ed3725b8-4749-403e-8617-cd48867affac",
   "metadata": {},
   "outputs": [
    {
     "data": {
      "text/plain": [
       "'c'"
      ]
     },
     "execution_count": 17,
     "metadata": {},
     "output_type": "execute_result"
    }
   ],
   "source": [
    "letter"
   ]
  },
  {
   "cell_type": "code",
   "execution_count": 18,
   "id": "abbc6050-d300-438b-a2ae-aa6dd16fb902",
   "metadata": {},
   "outputs": [
    {
     "data": {
      "text/plain": [
       "'C'"
      ]
     },
     "execution_count": 18,
     "metadata": {},
     "output_type": "execute_result"
    }
   ],
   "source": [
    "letter.upper()"
   ]
  },
  {
   "cell_type": "code",
   "execution_count": 19,
   "id": "8b180579-5bf3-40f3-b3a7-01baae71bfc0",
   "metadata": {},
   "outputs": [
    {
     "data": {
      "text/plain": [
       "'C'"
      ]
     },
     "execution_count": 19,
     "metadata": {},
     "output_type": "execute_result"
    }
   ],
   "source": [
    "d['key_one'][2].upper()"
   ]
  },
  {
   "cell_type": "code",
   "execution_count": 20,
   "id": "2584d6ed-ebb0-4e92-91a5-c8d0bd55b55e",
   "metadata": {},
   "outputs": [],
   "source": [
    "d = {'k_one':100, 'k_two':200}"
   ]
  },
  {
   "cell_type": "code",
   "execution_count": 21,
   "id": "8a150b4f-4507-4deb-9d15-9e8841c8d2d2",
   "metadata": {},
   "outputs": [
    {
     "data": {
      "text/plain": [
       "{'k_one': 100, 'k_two': 200}"
      ]
     },
     "execution_count": 21,
     "metadata": {},
     "output_type": "execute_result"
    }
   ],
   "source": [
    "d"
   ]
  },
  {
   "cell_type": "code",
   "execution_count": 22,
   "id": "30a5d6f6-037e-42a8-bafd-593bb88fc21d",
   "metadata": {},
   "outputs": [],
   "source": [
    "d['K_three'] = 300"
   ]
  },
  {
   "cell_type": "code",
   "execution_count": 23,
   "id": "b5f8d737-ffb2-43f0-aee9-d6678bcec1ed",
   "metadata": {},
   "outputs": [
    {
     "data": {
      "text/plain": [
       "{'k_one': 100, 'k_two': 200, 'K_three': 300}"
      ]
     },
     "execution_count": 23,
     "metadata": {},
     "output_type": "execute_result"
    }
   ],
   "source": [
    "d"
   ]
  },
  {
   "cell_type": "code",
   "execution_count": 24,
   "id": "4619c282-a513-4994-bd05-9ce83be25d01",
   "metadata": {},
   "outputs": [],
   "source": [
    "d['k_one'] = 'NEW VALUE'"
   ]
  },
  {
   "cell_type": "code",
   "execution_count": 25,
   "id": "e7967437-893e-4b5c-bbd3-abd272858029",
   "metadata": {},
   "outputs": [
    {
     "data": {
      "text/plain": [
       "{'k_one': 'NEW VALUE', 'k_two': 200, 'K_three': 300}"
      ]
     },
     "execution_count": 25,
     "metadata": {},
     "output_type": "execute_result"
    }
   ],
   "source": [
    "d"
   ]
  },
  {
   "cell_type": "code",
   "execution_count": 26,
   "id": "869f8f73-0647-4cb5-8b70-3f98b251e3c4",
   "metadata": {},
   "outputs": [],
   "source": [
    "d['k_one'] = 100"
   ]
  },
  {
   "cell_type": "code",
   "execution_count": 27,
   "id": "76b56f7d-42a6-4ff4-9b1e-e96c96154f8f",
   "metadata": {},
   "outputs": [
    {
     "data": {
      "text/plain": [
       "{'k_one': 100, 'k_two': 200, 'K_three': 300}"
      ]
     },
     "execution_count": 27,
     "metadata": {},
     "output_type": "execute_result"
    }
   ],
   "source": [
    "d"
   ]
  },
  {
   "cell_type": "code",
   "execution_count": 28,
   "id": "5ff45a35-a99e-4754-8d9c-ca9998c9346a",
   "metadata": {},
   "outputs": [
    {
     "data": {
      "text/plain": [
       "dict_keys(['k_one', 'k_two', 'K_three'])"
      ]
     },
     "execution_count": 28,
     "metadata": {},
     "output_type": "execute_result"
    }
   ],
   "source": [
    "d.keys()"
   ]
  },
  {
   "cell_type": "code",
   "execution_count": 29,
   "id": "93a2f369-fccc-4f4a-88f3-c94e596dd076",
   "metadata": {},
   "outputs": [
    {
     "data": {
      "text/plain": [
       "dict_values([100, 200, 300])"
      ]
     },
     "execution_count": 29,
     "metadata": {},
     "output_type": "execute_result"
    }
   ],
   "source": [
    "d.values()"
   ]
  },
  {
   "cell_type": "code",
   "execution_count": 30,
   "id": "1861d8f1-9bd8-424c-a0ad-baf7a5030a6e",
   "metadata": {},
   "outputs": [
    {
     "data": {
      "text/plain": [
       "dict_items([('k_one', 100), ('k_two', 200), ('K_three', 300)])"
      ]
     },
     "execution_count": 30,
     "metadata": {},
     "output_type": "execute_result"
    }
   ],
   "source": [
    "d.items()"
   ]
  },
  {
   "cell_type": "code",
   "execution_count": 31,
   "id": "a04b0c50-2c74-4dd3-8f40-e9fcb2bd8ddc",
   "metadata": {},
   "outputs": [
    {
     "data": {
      "text/plain": [
       "100"
      ]
     },
     "execution_count": 31,
     "metadata": {},
     "output_type": "execute_result"
    }
   ],
   "source": [
    "d.get('k_one')"
   ]
  },
  {
   "cell_type": "code",
   "execution_count": 32,
   "id": "1618b6a9-ea88-4c4a-8a5f-9330bbe45683",
   "metadata": {},
   "outputs": [
    {
     "data": {
      "text/plain": [
       "('K_three', 300)"
      ]
     },
     "execution_count": 32,
     "metadata": {},
     "output_type": "execute_result"
    }
   ],
   "source": [
    "d.popitem()"
   ]
  },
  {
   "cell_type": "code",
   "execution_count": 33,
   "id": "f1e4a6da-3b30-4810-9043-eeaba8ad6639",
   "metadata": {},
   "outputs": [
    {
     "data": {
      "text/plain": [
       "{'k_one': 100, 'k_two': 200}"
      ]
     },
     "execution_count": 33,
     "metadata": {},
     "output_type": "execute_result"
    }
   ],
   "source": [
    "d"
   ]
  },
  {
   "cell_type": "code",
   "execution_count": 35,
   "id": "ed6d5120-615b-4e8e-97ae-acea0a201a38",
   "metadata": {},
   "outputs": [],
   "source": [
    "d['k_three']=300"
   ]
  },
  {
   "cell_type": "code",
   "execution_count": 36,
   "id": "ed994884-ab41-4975-b29d-f9e1df056ec0",
   "metadata": {},
   "outputs": [
    {
     "data": {
      "text/plain": [
       "{'k_one': 100, 'k_two': 200, 'k_three': 300}"
      ]
     },
     "execution_count": 36,
     "metadata": {},
     "output_type": "execute_result"
    }
   ],
   "source": [
    "d"
   ]
  },
  {
   "cell_type": "code",
   "execution_count": null,
   "id": "9fefba9d-3038-4b8a-a7c4-41c0cc1c85f8",
   "metadata": {},
   "outputs": [],
   "source": []
  }
 ],
 "metadata": {
  "kernelspec": {
   "display_name": "Python 3 (ipykernel)",
   "language": "python",
   "name": "python3"
  },
  "language_info": {
   "codemirror_mode": {
    "name": "ipython",
    "version": 3
   },
   "file_extension": ".py",
   "mimetype": "text/x-python",
   "name": "python",
   "nbconvert_exporter": "python",
   "pygments_lexer": "ipython3",
   "version": "3.13.5"
  }
 },
 "nbformat": 4,
 "nbformat_minor": 5
}
