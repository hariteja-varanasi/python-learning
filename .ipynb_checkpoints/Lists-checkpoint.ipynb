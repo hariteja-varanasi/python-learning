{
 "cells": [
  {
   "cell_type": "code",
   "execution_count": 1,
   "id": "46a95504-f8b3-4d32-aace-cf24e5af2ff7",
   "metadata": {},
   "outputs": [],
   "source": [
    "my_list = [1, 2, 3]"
   ]
  },
  {
   "cell_type": "code",
   "execution_count": 2,
   "id": "e8c6e5a4-9dd9-4ccd-840d-c0be64fe7691",
   "metadata": {},
   "outputs": [
    {
     "data": {
      "text/plain": [
       "[1, 2, 3]"
      ]
     },
     "execution_count": 2,
     "metadata": {},
     "output_type": "execute_result"
    }
   ],
   "source": [
    "my_list"
   ]
  },
  {
   "cell_type": "code",
   "execution_count": 3,
   "id": "7cfb75b6-019a-4a4d-b3e4-0cea1acdf119",
   "metadata": {},
   "outputs": [],
   "source": [
    "my_list = ['STRING', 100, 23.2]"
   ]
  },
  {
   "cell_type": "code",
   "execution_count": 4,
   "id": "5c4f4d77-6fac-473a-93fe-0c45db58a033",
   "metadata": {},
   "outputs": [
    {
     "data": {
      "text/plain": [
       "3"
      ]
     },
     "execution_count": 4,
     "metadata": {},
     "output_type": "execute_result"
    }
   ],
   "source": [
    "len(my_list)"
   ]
  },
  {
   "cell_type": "code",
   "execution_count": 5,
   "id": "6a786cef-a147-4999-9165-45a695ceb6b2",
   "metadata": {},
   "outputs": [],
   "source": [
    "my_list = ['one', 'two', 'three']"
   ]
  },
  {
   "cell_type": "code",
   "execution_count": 6,
   "id": "a4ff2232-315e-4433-a13e-0986e70067c3",
   "metadata": {},
   "outputs": [
    {
     "data": {
      "text/plain": [
       "'one'"
      ]
     },
     "execution_count": 6,
     "metadata": {},
     "output_type": "execute_result"
    }
   ],
   "source": [
    "my_list[0]"
   ]
  },
  {
   "cell_type": "code",
   "execution_count": 7,
   "id": "2bafce3f-e7e1-40b5-98ec-7dc06a6be715",
   "metadata": {},
   "outputs": [
    {
     "data": {
      "text/plain": [
       "['two', 'three']"
      ]
     },
     "execution_count": 7,
     "metadata": {},
     "output_type": "execute_result"
    }
   ],
   "source": [
    "my_list[1:]"
   ]
  },
  {
   "cell_type": "code",
   "execution_count": 8,
   "id": "50544bb9-4601-4404-adc2-a5b45178e9e4",
   "metadata": {},
   "outputs": [],
   "source": [
    "another_list = ['four', 'five', 'six']"
   ]
  },
  {
   "cell_type": "code",
   "execution_count": 9,
   "id": "11e584ef-23d6-4fed-b87e-52a62f9a8f41",
   "metadata": {},
   "outputs": [
    {
     "data": {
      "text/plain": [
       "['one', 'two', 'three', 'four', 'five', 'six']"
      ]
     },
     "execution_count": 9,
     "metadata": {},
     "output_type": "execute_result"
    }
   ],
   "source": [
    "my_list + another_list"
   ]
  },
  {
   "cell_type": "code",
   "execution_count": 10,
   "id": "c2b71d02-699a-4339-b8fd-45c37ddfe987",
   "metadata": {},
   "outputs": [],
   "source": [
    "new_list = my_list + another_list"
   ]
  },
  {
   "cell_type": "code",
   "execution_count": 11,
   "id": "38e0e8a5-5af7-47bb-82f7-aac4af187cd4",
   "metadata": {},
   "outputs": [
    {
     "data": {
      "text/plain": [
       "['one', 'two', 'three', 'four', 'five', 'six']"
      ]
     },
     "execution_count": 11,
     "metadata": {},
     "output_type": "execute_result"
    }
   ],
   "source": [
    "new_list"
   ]
  },
  {
   "cell_type": "code",
   "execution_count": 12,
   "id": "d8025097-7652-46a1-88ed-8214fb4a2738",
   "metadata": {},
   "outputs": [
    {
     "data": {
      "text/plain": [
       "'ONE'"
      ]
     },
     "execution_count": 12,
     "metadata": {},
     "output_type": "execute_result"
    }
   ],
   "source": [
    "new_list[0].upper()"
   ]
  },
  {
   "cell_type": "code",
   "execution_count": 13,
   "id": "1255e553-7326-41c0-a28a-1e31e14f8e83",
   "metadata": {},
   "outputs": [
    {
     "data": {
      "text/plain": [
       "['one', 'two', 'three', 'four', 'five', 'six']"
      ]
     },
     "execution_count": 13,
     "metadata": {},
     "output_type": "execute_result"
    }
   ],
   "source": [
    "new_list"
   ]
  },
  {
   "cell_type": "code",
   "execution_count": 14,
   "id": "7f56a5ee-9c0d-4119-ba13-798c75c9c959",
   "metadata": {},
   "outputs": [],
   "source": [
    "new_list[0] = 'ONE ALL CAPS'"
   ]
  },
  {
   "cell_type": "code",
   "execution_count": 15,
   "id": "0cbf4645-aa62-4ec9-8d0b-10f3d5d7329d",
   "metadata": {},
   "outputs": [
    {
     "data": {
      "text/plain": [
       "['ONE ALL CAPS', 'two', 'three', 'four', 'five', 'six']"
      ]
     },
     "execution_count": 15,
     "metadata": {},
     "output_type": "execute_result"
    }
   ],
   "source": [
    "new_list"
   ]
  },
  {
   "cell_type": "code",
   "execution_count": 16,
   "id": "c25ac4a0-93ea-4747-b92b-15a25b872fb7",
   "metadata": {},
   "outputs": [
    {
     "data": {
      "text/plain": [
       "'six'"
      ]
     },
     "execution_count": 16,
     "metadata": {},
     "output_type": "execute_result"
    }
   ],
   "source": [
    "new_list[-1]"
   ]
  },
  {
   "cell_type": "code",
   "execution_count": 17,
   "id": "8a1f99ec-da40-4f1b-9459-80a4a6b43555",
   "metadata": {},
   "outputs": [],
   "source": [
    "new_list.append('seven')"
   ]
  },
  {
   "cell_type": "code",
   "execution_count": 18,
   "id": "a7053250-19d2-4ce2-82ca-36ec959e1989",
   "metadata": {},
   "outputs": [
    {
     "data": {
      "text/plain": [
       "['ONE ALL CAPS', 'two', 'three', 'four', 'five', 'six', 'seven']"
      ]
     },
     "execution_count": 18,
     "metadata": {},
     "output_type": "execute_result"
    }
   ],
   "source": [
    "new_list"
   ]
  },
  {
   "cell_type": "code",
   "execution_count": 20,
   "id": "b7c56405-445d-45ce-bf7b-794b1266d33b",
   "metadata": {},
   "outputs": [],
   "source": [
    "new_list.insert(-1, 'eight')"
   ]
  },
  {
   "cell_type": "code",
   "execution_count": 21,
   "id": "7bafb4e0-3451-44a3-942c-f7e4dad341c5",
   "metadata": {},
   "outputs": [
    {
     "data": {
      "text/plain": [
       "['ONE ALL CAPS', 'two', 'three', 'four', 'five', 'six', 'eight', 'seven']"
      ]
     },
     "execution_count": 21,
     "metadata": {},
     "output_type": "execute_result"
    }
   ],
   "source": [
    "new_list"
   ]
  },
  {
   "cell_type": "code",
   "execution_count": 22,
   "id": "bf5f2758-9ece-44ac-a03b-2aac63022ec3",
   "metadata": {},
   "outputs": [],
   "source": [
    "new_list[-1] = 'seven'"
   ]
  },
  {
   "cell_type": "code",
   "execution_count": 23,
   "id": "7ae544d8-87ba-492c-8c67-c1d79eb5af0d",
   "metadata": {},
   "outputs": [
    {
     "data": {
      "text/plain": [
       "['ONE ALL CAPS', 'two', 'three', 'four', 'five', 'six', 'eight', 'seven']"
      ]
     },
     "execution_count": 23,
     "metadata": {},
     "output_type": "execute_result"
    }
   ],
   "source": [
    "new_list"
   ]
  },
  {
   "cell_type": "code",
   "execution_count": 24,
   "id": "6dc5e5bd-3d18-4e98-afcd-6ffafe870919",
   "metadata": {},
   "outputs": [],
   "source": [
    "new_list[-2] = 'seven'"
   ]
  },
  {
   "cell_type": "code",
   "execution_count": 25,
   "id": "7baa7666-a19f-4aee-8854-2f3a9877ba9d",
   "metadata": {},
   "outputs": [
    {
     "data": {
      "text/plain": [
       "['ONE ALL CAPS', 'two', 'three', 'four', 'five', 'six', 'seven', 'seven']"
      ]
     },
     "execution_count": 25,
     "metadata": {},
     "output_type": "execute_result"
    }
   ],
   "source": [
    "new_list"
   ]
  },
  {
   "cell_type": "code",
   "execution_count": 26,
   "id": "3952733b-87ac-4d4b-8978-33224bf56b72",
   "metadata": {},
   "outputs": [],
   "source": [
    "new_list[-1] = 'eight'"
   ]
  },
  {
   "cell_type": "code",
   "execution_count": 27,
   "id": "9a246033-d1d6-4b30-8f05-2c03edc2e41f",
   "metadata": {},
   "outputs": [
    {
     "data": {
      "text/plain": [
       "['ONE ALL CAPS', 'two', 'three', 'four', 'five', 'six', 'seven', 'eight']"
      ]
     },
     "execution_count": 27,
     "metadata": {},
     "output_type": "execute_result"
    }
   ],
   "source": [
    "new_list"
   ]
  },
  {
   "cell_type": "code",
   "execution_count": 28,
   "id": "09037005-6a2e-4328-8b2d-dabba3604be9",
   "metadata": {},
   "outputs": [
    {
     "data": {
      "text/plain": [
       "'ONE ALL CAPS'"
      ]
     },
     "execution_count": 28,
     "metadata": {},
     "output_type": "execute_result"
    }
   ],
   "source": [
    "new_list.pop(0)"
   ]
  },
  {
   "cell_type": "code",
   "execution_count": 29,
   "id": "e4b94f97-a358-4f9a-abdd-728b92cd37dd",
   "metadata": {},
   "outputs": [
    {
     "data": {
      "text/plain": [
       "['two', 'three', 'four', 'five', 'six', 'seven', 'eight']"
      ]
     },
     "execution_count": 29,
     "metadata": {},
     "output_type": "execute_result"
    }
   ],
   "source": [
    "new_list"
   ]
  },
  {
   "cell_type": "code",
   "execution_count": 30,
   "id": "529d8616-fba6-4681-9793-2182b327bb6e",
   "metadata": {},
   "outputs": [],
   "source": [
    "new_list.insert(0, 'one')"
   ]
  },
  {
   "cell_type": "code",
   "execution_count": 31,
   "id": "77204d42-9748-4543-a95d-9800b118a5b5",
   "metadata": {},
   "outputs": [
    {
     "data": {
      "text/plain": [
       "['one', 'two', 'three', 'four', 'five', 'six', 'seven', 'eight']"
      ]
     },
     "execution_count": 31,
     "metadata": {},
     "output_type": "execute_result"
    }
   ],
   "source": [
    "new_list"
   ]
  },
  {
   "cell_type": "code",
   "execution_count": 32,
   "id": "28c2fe31-a879-4704-a851-ea572b3e87f0",
   "metadata": {},
   "outputs": [],
   "source": [
    "char_list = ['a', 'e', 'x', 'b', 'c']\n",
    "num_list = [4,1,8,3]"
   ]
  },
  {
   "cell_type": "code",
   "execution_count": 33,
   "id": "7dfae676-662f-493c-abd4-96c956d3ab7d",
   "metadata": {},
   "outputs": [],
   "source": [
    "char_list.sort()"
   ]
  },
  {
   "cell_type": "code",
   "execution_count": 35,
   "id": "7b8c2920-5f21-47ac-9cf9-4af841d60294",
   "metadata": {},
   "outputs": [
    {
     "data": {
      "text/plain": [
       "['a', 'b', 'c', 'e', 'x']"
      ]
     },
     "execution_count": 35,
     "metadata": {},
     "output_type": "execute_result"
    }
   ],
   "source": [
    "char_list"
   ]
  },
  {
   "cell_type": "code",
   "execution_count": 36,
   "id": "a6e23569-97c0-4c00-a6da-466452343d45",
   "metadata": {},
   "outputs": [],
   "source": [
    "my_sorted_list = char_list.sort()"
   ]
  },
  {
   "cell_type": "code",
   "execution_count": 37,
   "id": "034c4723-1a7b-4388-8302-528c81ce85c2",
   "metadata": {},
   "outputs": [],
   "source": [
    "my_sorted_list"
   ]
  },
  {
   "cell_type": "code",
   "execution_count": 38,
   "id": "347702f5-d143-442b-a83a-181cc3b56da8",
   "metadata": {},
   "outputs": [
    {
     "data": {
      "text/plain": [
       "NoneType"
      ]
     },
     "execution_count": 38,
     "metadata": {},
     "output_type": "execute_result"
    }
   ],
   "source": [
    "type(my_sorted_list)"
   ]
  },
  {
   "cell_type": "code",
   "execution_count": 39,
   "id": "30108e21-ae79-4609-81ef-deb1b9748468",
   "metadata": {},
   "outputs": [],
   "source": [
    "None"
   ]
  },
  {
   "cell_type": "code",
   "execution_count": 40,
   "id": "cc3d1e7f-f0aa-4c08-bd61-a1a35ef6fb4a",
   "metadata": {},
   "outputs": [],
   "source": [
    "num_list.sort()"
   ]
  },
  {
   "cell_type": "code",
   "execution_count": 42,
   "id": "3b865c64-a85b-4b5f-905c-c7a8ad03353e",
   "metadata": {},
   "outputs": [
    {
     "data": {
      "text/plain": [
       "[1, 3, 4, 8]"
      ]
     },
     "execution_count": 42,
     "metadata": {},
     "output_type": "execute_result"
    }
   ],
   "source": [
    "num_list"
   ]
  },
  {
   "cell_type": "code",
   "execution_count": 43,
   "id": "f1c877a9-c60d-495a-b44d-b4dae1df8184",
   "metadata": {},
   "outputs": [],
   "source": [
    "num_list.reverse()"
   ]
  },
  {
   "cell_type": "code",
   "execution_count": 44,
   "id": "8ebed2b9-6ce1-428c-ae51-da66f66a8c2c",
   "metadata": {},
   "outputs": [
    {
     "data": {
      "text/plain": [
       "[8, 4, 3, 1]"
      ]
     },
     "execution_count": 44,
     "metadata": {},
     "output_type": "execute_result"
    }
   ],
   "source": [
    "num_list"
   ]
  },
  {
   "cell_type": "code",
   "execution_count": null,
   "id": "b0d90828-3002-4858-9f81-e0b5f0469fd9",
   "metadata": {},
   "outputs": [],
   "source": []
  }
 ],
 "metadata": {
  "kernelspec": {
   "display_name": "Python 3 (ipykernel)",
   "language": "python",
   "name": "python3"
  },
  "language_info": {
   "codemirror_mode": {
    "name": "ipython",
    "version": 3
   },
   "file_extension": ".py",
   "mimetype": "text/x-python",
   "name": "python",
   "nbconvert_exporter": "python",
   "pygments_lexer": "ipython3",
   "version": "3.13.5"
  }
 },
 "nbformat": 4,
 "nbformat_minor": 5
}
