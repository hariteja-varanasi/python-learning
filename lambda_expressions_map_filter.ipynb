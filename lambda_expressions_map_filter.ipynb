{
 "cells": [
  {
   "cell_type": "code",
   "execution_count": 2,
   "id": "9d020cd0-d48f-441b-982a-3031705e5c85",
   "metadata": {},
   "outputs": [],
   "source": [
    "def return_square(num):\n",
    "    return num**2"
   ]
  },
  {
   "cell_type": "code",
   "execution_count": 3,
   "id": "bb7a8196-1771-4bd3-89dc-6db03c9c0a07",
   "metadata": {},
   "outputs": [],
   "source": [
    "my_nums=[1,2,3,4,5]"
   ]
  },
  {
   "cell_type": "code",
   "execution_count": 7,
   "id": "cc13bc60-70ba-4f15-8a25-aa37bc31f1e8",
   "metadata": {},
   "outputs": [
    {
     "name": "stdout",
     "output_type": "stream",
     "text": [
      "1\n",
      "4\n",
      "9\n",
      "16\n",
      "25\n"
     ]
    }
   ],
   "source": [
    "for item in map(return_square,my_nums):\n",
    "    print(item)"
   ]
  },
  {
   "cell_type": "code",
   "execution_count": 8,
   "id": "6a679262-8ba8-45bf-8c42-618b6f289ba4",
   "metadata": {},
   "outputs": [
    {
     "data": {
      "text/plain": [
       "[1, 4, 9, 16, 25]"
      ]
     },
     "execution_count": 8,
     "metadata": {},
     "output_type": "execute_result"
    }
   ],
   "source": [
    "list(map(return_square, my_nums))"
   ]
  },
  {
   "cell_type": "code",
   "execution_count": 9,
   "id": "51164893-3f9f-4660-83c2-a745d931db05",
   "metadata": {},
   "outputs": [],
   "source": [
    "def str_splicer(my_string):\n",
    "    if len(my_string)%2==0:\n",
    "        return 'EVEN'\n",
    "    else:\n",
    "        return my_string[0]"
   ]
  },
  {
   "cell_type": "code",
   "execution_count": 10,
   "id": "f762deff-49ab-4dc5-b3ec-605bb67eb12d",
   "metadata": {},
   "outputs": [],
   "source": [
    "names=['Andy','Eve','Sally']"
   ]
  },
  {
   "cell_type": "code",
   "execution_count": 13,
   "id": "678397ba-b454-4f34-91be-0f79a3ee2bb7",
   "metadata": {},
   "outputs": [
    {
     "data": {
      "text/plain": [
       "['EVEN', 'E', 'S']"
      ]
     },
     "execution_count": 13,
     "metadata": {},
     "output_type": "execute_result"
    }
   ],
   "source": [
    "list(map(str_splicer,names))"
   ]
  },
  {
   "cell_type": "code",
   "execution_count": 14,
   "id": "8eabd777-a747-4421-a2b2-cfa1be966268",
   "metadata": {},
   "outputs": [],
   "source": [
    "def check_even(num):\n",
    "    return num%2==0"
   ]
  },
  {
   "cell_type": "code",
   "execution_count": 15,
   "id": "3cc88b35-df60-4129-8c99-b6bc16287fd4",
   "metadata": {},
   "outputs": [],
   "source": [
    "my_nums.append(6)"
   ]
  },
  {
   "cell_type": "code",
   "execution_count": 16,
   "id": "3a9d94fd-3d65-4e2d-bfb2-182a198f86b2",
   "metadata": {},
   "outputs": [
    {
     "data": {
      "text/plain": [
       "<filter at 0x15141e7bf40>"
      ]
     },
     "execution_count": 16,
     "metadata": {},
     "output_type": "execute_result"
    }
   ],
   "source": [
    "filter(check_even,my_nums)"
   ]
  },
  {
   "cell_type": "code",
   "execution_count": 17,
   "id": "45ffdd96-41d7-4d98-8489-21be647e8470",
   "metadata": {},
   "outputs": [
    {
     "data": {
      "text/plain": [
       "[2, 4, 6]"
      ]
     },
     "execution_count": 17,
     "metadata": {},
     "output_type": "execute_result"
    }
   ],
   "source": [
    "list(filter(check_even,my_nums))"
   ]
  },
  {
   "cell_type": "code",
   "execution_count": 20,
   "id": "ab4de8de-31f4-4ed9-8334-d5b1c41d7e60",
   "metadata": {},
   "outputs": [],
   "source": [
    "def return_square(num):\n",
    "    result=num**2\n",
    "    return result"
   ]
  },
  {
   "cell_type": "code",
   "execution_count": 21,
   "id": "5fd64ebd-7a6e-484c-a938-1097b4aebc95",
   "metadata": {},
   "outputs": [
    {
     "data": {
      "text/plain": [
       "9"
      ]
     },
     "execution_count": 21,
     "metadata": {},
     "output_type": "execute_result"
    }
   ],
   "source": [
    "return_square(3)"
   ]
  },
  {
   "cell_type": "code",
   "execution_count": 22,
   "id": "cfa1d23a-d484-453e-b0bd-b746890cc3ed",
   "metadata": {},
   "outputs": [],
   "source": [
    "def return_square(num): return num**2"
   ]
  },
  {
   "cell_type": "code",
   "execution_count": 23,
   "id": "cfa69bf3-d82d-484b-bb96-0cea8b7e87b2",
   "metadata": {},
   "outputs": [
    {
     "data": {
      "text/plain": [
       "9"
      ]
     },
     "execution_count": 23,
     "metadata": {},
     "output_type": "execute_result"
    }
   ],
   "source": [
    "return_square(3)"
   ]
  },
  {
   "cell_type": "code",
   "execution_count": 25,
   "id": "114d1753-dbcc-498a-919a-251b085edb34",
   "metadata": {},
   "outputs": [],
   "source": [
    "return_square=lambda num:num**2"
   ]
  },
  {
   "cell_type": "code",
   "execution_count": 27,
   "id": "31493834-af15-400c-a356-62878707ed9e",
   "metadata": {},
   "outputs": [
    {
     "data": {
      "text/plain": [
       "25"
      ]
     },
     "execution_count": 27,
     "metadata": {},
     "output_type": "execute_result"
    }
   ],
   "source": [
    "return_square(5)"
   ]
  },
  {
   "cell_type": "code",
   "execution_count": 29,
   "id": "53cd016e-7f04-4401-b860-2c689c21c840",
   "metadata": {},
   "outputs": [
    {
     "data": {
      "text/plain": [
       "[1, 4, 9, 16, 25, 36]"
      ]
     },
     "execution_count": 29,
     "metadata": {},
     "output_type": "execute_result"
    }
   ],
   "source": [
    "list(map(lambda num:num**2,my_nums))"
   ]
  },
  {
   "cell_type": "code",
   "execution_count": 30,
   "id": "be0769e2-092e-46dd-aab4-1328d46e02ee",
   "metadata": {},
   "outputs": [
    {
     "data": {
      "text/plain": [
       "[2, 4, 6]"
      ]
     },
     "execution_count": 30,
     "metadata": {},
     "output_type": "execute_result"
    }
   ],
   "source": [
    "list(filter(lambda num:num%2==0,my_nums))"
   ]
  },
  {
   "cell_type": "code",
   "execution_count": 70,
   "id": "d54f125c-30df-43cb-aac4-d260ced3a165",
   "metadata": {},
   "outputs": [
    {
     "data": {
      "text/plain": [
       "['EVEN', 'E', 'S']"
      ]
     },
     "execution_count": 70,
     "metadata": {},
     "output_type": "execute_result"
    }
   ],
   "source": [
    "list(map(lambda name:'EVEN' if len(name)%2==0 else name[0],names))"
   ]
  },
  {
   "cell_type": "code",
   "execution_count": 42,
   "id": "760b9bef-3800-4280-89db-c294e1eb1dc9",
   "metadata": {},
   "outputs": [
    {
     "data": {
      "text/plain": [
       "[1, 3, 5]"
      ]
     },
     "execution_count": 42,
     "metadata": {},
     "output_type": "execute_result"
    }
   ],
   "source": [
    "list(filter(lambda num:num%2,my_nums))"
   ]
  },
  {
   "cell_type": "code",
   "execution_count": 43,
   "id": "84f29b49-9bbb-4161-a522-bd92ae92d016",
   "metadata": {},
   "outputs": [
    {
     "data": {
      "text/plain": [
       "[2, 4, 6]"
      ]
     },
     "execution_count": 43,
     "metadata": {},
     "output_type": "execute_result"
    }
   ],
   "source": [
    "list(filter(lambda num:num%2==0,my_nums))"
   ]
  },
  {
   "cell_type": "code",
   "execution_count": 46,
   "id": "69d7a494-2587-42f8-9439-5294d0271a49",
   "metadata": {},
   "outputs": [
    {
     "data": {
      "text/plain": [
       "['ydnA', 'evE', 'yllaS']"
      ]
     },
     "execution_count": 46,
     "metadata": {},
     "output_type": "execute_result"
    }
   ],
   "source": [
    "list(map(lambda name:name[::-1],names))"
   ]
  },
  {
   "cell_type": "code",
   "execution_count": 47,
   "id": "38dc39b1-c14e-499b-ba99-efc52577e396",
   "metadata": {},
   "outputs": [],
   "source": [
    "x=25\n",
    "\n",
    "def printer():\n",
    "    x=50\n",
    "    return x"
   ]
  },
  {
   "cell_type": "code",
   "execution_count": 48,
   "id": "61b30e44-ccd1-4bda-893c-970becf3f44c",
   "metadata": {},
   "outputs": [
    {
     "name": "stdout",
     "output_type": "stream",
     "text": [
      "25\n"
     ]
    }
   ],
   "source": [
    "print(x)"
   ]
  },
  {
   "cell_type": "code",
   "execution_count": 49,
   "id": "178fec15-f8c9-453a-aea3-6223aaf45804",
   "metadata": {},
   "outputs": [
    {
     "name": "stdout",
     "output_type": "stream",
     "text": [
      "50\n"
     ]
    }
   ],
   "source": [
    "print(printer())"
   ]
  },
  {
   "cell_type": "code",
   "execution_count": 56,
   "id": "ae66a8f4-4513-4bb1-9828-a31d25304a6b",
   "metadata": {},
   "outputs": [],
   "source": [
    "#Global\n",
    "name='I AM A GLOBAL VARIABLE'\n",
    "\n",
    "def greet():\n",
    "\n",
    "    #Environment\n",
    "    name='Sammy'\n",
    "\n",
    "    def hello():\n",
    "        #Local\n",
    "        name='I AM A LOCAL VARIABLE'\n",
    "        print(f\"Hello {name}\")\n",
    "    hello()"
   ]
  },
  {
   "cell_type": "code",
   "execution_count": 57,
   "id": "edfdafe6-d737-4dfe-b776-0e312a52b322",
   "metadata": {},
   "outputs": [
    {
     "name": "stdout",
     "output_type": "stream",
     "text": [
      "Hello I AM A LOCAL VARIABLE\n"
     ]
    }
   ],
   "source": [
    "greet()"
   ]
  },
  {
   "cell_type": "code",
   "execution_count": 62,
   "id": "3304a38c-f78c-45b3-8ab8-1e9d363d51d3",
   "metadata": {},
   "outputs": [],
   "source": [
    "x=50\n",
    "\n",
    "def func(x):\n",
    "    print(f\"X is {x}\")\n",
    "\n",
    "    #Local Reassignment\n",
    "    x=200\n",
    "    print(f\"X IS LOCALLY CHANGED GLOBAL TO {x}\")"
   ]
  },
  {
   "cell_type": "code",
   "execution_count": 64,
   "id": "51a809db-b2b8-437d-81db-8d3b5f4e8878",
   "metadata": {},
   "outputs": [
    {
     "name": "stdout",
     "output_type": "stream",
     "text": [
      "X is 50\n",
      "X IS LOCALLY CHANGED GLOBAL TO 200\n"
     ]
    }
   ],
   "source": [
    "func(x)"
   ]
  },
  {
   "cell_type": "code",
   "execution_count": 65,
   "id": "93de5f9f-9143-4c01-8b8c-2639e6d385a0",
   "metadata": {},
   "outputs": [
    {
     "name": "stdout",
     "output_type": "stream",
     "text": [
      "50\n"
     ]
    }
   ],
   "source": [
    "print(x)"
   ]
  },
  {
   "cell_type": "code",
   "execution_count": 66,
   "id": "5d921c92-5f15-4b26-b6d1-6b25afc0b578",
   "metadata": {},
   "outputs": [],
   "source": [
    "x=50\n",
    "\n",
    "def func(x):\n",
    "    print(f\"X is {x}\")\n",
    "\n",
    "    #Local Reassignment\n",
    "    x='NEW VALUE'\n",
    "    print(f\"X IS LOCALLY CHANGED GLOBAL TO {x}\")\n",
    "\n",
    "    return x"
   ]
  },
  {
   "cell_type": "code",
   "execution_count": 67,
   "id": "9b3a27f1-b39b-4108-857f-647c9abe0c35",
   "metadata": {},
   "outputs": [
    {
     "name": "stdout",
     "output_type": "stream",
     "text": [
      "50\n"
     ]
    }
   ],
   "source": [
    "print(x)"
   ]
  },
  {
   "cell_type": "code",
   "execution_count": 68,
   "id": "de80210f-3caa-494f-b0ae-a0198b1043a6",
   "metadata": {},
   "outputs": [
    {
     "name": "stdout",
     "output_type": "stream",
     "text": [
      "X is 50\n",
      "X IS LOCALLY CHANGED GLOBAL TO NEW VALUE\n"
     ]
    }
   ],
   "source": [
    "x=func(x)"
   ]
  },
  {
   "cell_type": "code",
   "execution_count": 69,
   "id": "ac88c3b3-cba4-49b6-8503-d11072ead0a8",
   "metadata": {},
   "outputs": [
    {
     "data": {
      "text/plain": [
       "'NEW VALUE'"
      ]
     },
     "execution_count": 69,
     "metadata": {},
     "output_type": "execute_result"
    }
   ],
   "source": [
    "x"
   ]
  },
  {
   "cell_type": "code",
   "execution_count": null,
   "id": "e20bd84b-7d3e-49c0-9b7d-b63e521bdf66",
   "metadata": {},
   "outputs": [],
   "source": []
  }
 ],
 "metadata": {
  "kernelspec": {
   "display_name": "Python 3 (ipykernel)",
   "language": "python",
   "name": "python3"
  },
  "language_info": {
   "codemirror_mode": {
    "name": "ipython",
    "version": 3
   },
   "file_extension": ".py",
   "mimetype": "text/x-python",
   "name": "python",
   "nbconvert_exporter": "python",
   "pygments_lexer": "ipython3",
   "version": "3.13.5"
  }
 },
 "nbformat": 4,
 "nbformat_minor": 5
}
