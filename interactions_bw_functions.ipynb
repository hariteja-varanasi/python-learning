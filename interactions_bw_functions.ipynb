{
 "cells": [
  {
   "cell_type": "code",
   "execution_count": 1,
   "id": "578310c8-810f-4d25-aa67-7a05b94d1632",
   "metadata": {},
   "outputs": [],
   "source": [
    "example_list = [1,2,3,4,5,6,7]"
   ]
  },
  {
   "cell_type": "code",
   "execution_count": 4,
   "id": "7a870c16-9b8c-4f5a-9c78-d44373d9500f",
   "metadata": {},
   "outputs": [],
   "source": [
    "from random import shuffle\n",
    "\n",
    "result = shuffle(example_list)"
   ]
  },
  {
   "cell_type": "code",
   "execution_count": 5,
   "id": "3ae05d67-b878-439f-97e4-9be3d3c14822",
   "metadata": {},
   "outputs": [],
   "source": [
    "result"
   ]
  },
  {
   "cell_type": "code",
   "execution_count": 6,
   "id": "2c557575-8fbe-49e8-8430-eee9bd7d3061",
   "metadata": {},
   "outputs": [],
   "source": [
    "def shuffle_list(my_list):\n",
    "    shuffle(my_list)\n",
    "    return my_list"
   ]
  },
  {
   "cell_type": "code",
   "execution_count": 9,
   "id": "8ce2400b-45b2-418b-bcbd-b14e2d18aea4",
   "metadata": {},
   "outputs": [],
   "source": [
    "result = shuffle_list(example_list)"
   ]
  },
  {
   "cell_type": "code",
   "execution_count": 10,
   "id": "b20a4d06-6b7c-40eb-87ea-4ec3b538db01",
   "metadata": {},
   "outputs": [
    {
     "data": {
      "text/plain": [
       "[1, 5, 4, 2, 7, 6, 3]"
      ]
     },
     "execution_count": 10,
     "metadata": {},
     "output_type": "execute_result"
    }
   ],
   "source": [
    "result"
   ]
  },
  {
   "cell_type": "code",
   "execution_count": 11,
   "id": "2e577a37-e4d9-4f51-b388-c953c63c931a",
   "metadata": {},
   "outputs": [],
   "source": [
    "game_list = ['','O','']"
   ]
  },
  {
   "cell_type": "code",
   "execution_count": 12,
   "id": "0f754f2a-c5b9-4bb9-a56e-a8bea66b4055",
   "metadata": {},
   "outputs": [
    {
     "data": {
      "text/plain": [
       "['', '', 'O']"
      ]
     },
     "execution_count": 12,
     "metadata": {},
     "output_type": "execute_result"
    }
   ],
   "source": [
    "shuffle_list(game_list)"
   ]
  },
  {
   "cell_type": "code",
   "execution_count": 13,
   "id": "616a4544-a1d0-4dc6-b4fc-b8533114ddd6",
   "metadata": {},
   "outputs": [],
   "source": [
    "def player_guess():\n",
    "    guess = ''\n",
    "    while guess not in ['0','1','2']:\n",
    "        guess = input(\"Pick a number 0,1 or 2\")\n",
    "    return int(guess)"
   ]
  },
  {
   "cell_type": "code",
   "execution_count": 14,
   "id": "b633c2cd-c3e5-4a61-865b-baf43feb23c7",
   "metadata": {},
   "outputs": [
    {
     "name": "stdin",
     "output_type": "stream",
     "text": [
      "Pick a number 0,1 or 2 1\n"
     ]
    },
    {
     "data": {
      "text/plain": [
       "1"
      ]
     },
     "execution_count": 14,
     "metadata": {},
     "output_type": "execute_result"
    }
   ],
   "source": [
    "my_index = player_guess()"
   ]
  },
  {
   "cell_type": "code",
   "execution_count": 15,
   "id": "6bc1b01c-3008-4222-ab64-4ec0d4749ce1",
   "metadata": {},
   "outputs": [],
   "source": [
    "def check_guess(shuffled_list, guess):\n",
    "    if shuffled_list[guess] == 'O':\n",
    "        print(\"Correct Guess!\")\n",
    "    else:\n",
    "        print(\"Wrong Guess!\")\n",
    "        print(shuffled_list)"
   ]
  },
  {
   "cell_type": "code",
   "execution_count": 16,
   "id": "27061301-370c-4306-8b6b-f3622ddb7a1d",
   "metadata": {},
   "outputs": [
    {
     "name": "stdin",
     "output_type": "stream",
     "text": [
      "Pick a number 0,1 or 2 100\n",
      "Pick a number 0,1 or 2 2\n"
     ]
    },
    {
     "name": "stdout",
     "output_type": "stream",
     "text": [
      "Wrong Guess!\n",
      "['O', ' ', ' ']\n"
     ]
    }
   ],
   "source": [
    "# INITIAL LIST\n",
    "\n",
    "game_list = [' ', 'O', ' ']\n",
    "\n",
    "# SHUFFLE LIST\n",
    "\n",
    "shuffled_list = shuffle_list(game_list)\n",
    "\n",
    "# GET PLAYER GUESS\n",
    "\n",
    "guess = player_guess()\n",
    "\n",
    "# CHECK THE PLAYER GUESS\n",
    "\n",
    "check_guess(shuffled_list, guess)"
   ]
  },
  {
   "cell_type": "code",
   "execution_count": 18,
   "id": "f92522a1-d9cb-4959-a66a-f985d5bcff15",
   "metadata": {},
   "outputs": [],
   "source": [
    "def run_game(game_list):\n",
    "    shuffled_list = shuffle_list(game_list)\n",
    "    guess = player_guess()\n",
    "    check_guess(shuffled_list, guess)\n",
    "    return"
   ]
  },
  {
   "cell_type": "code",
   "execution_count": 19,
   "id": "97f4d033-1ca7-45cb-9b72-9466bd85d955",
   "metadata": {},
   "outputs": [
    {
     "data": {
      "text/plain": [
       "['O', ' ', ' ']"
      ]
     },
     "execution_count": 19,
     "metadata": {},
     "output_type": "execute_result"
    }
   ],
   "source": [
    "game_list"
   ]
  },
  {
   "cell_type": "code",
   "execution_count": 22,
   "id": "b614a3c4-df7b-47a0-90d7-c3857e0dfa80",
   "metadata": {},
   "outputs": [
    {
     "name": "stdin",
     "output_type": "stream",
     "text": [
      "Pick a number 0,1 or 2 3\n",
      "Pick a number 0,1 or 2 2\n"
     ]
    },
    {
     "name": "stdout",
     "output_type": "stream",
     "text": [
      "Correct Guess!\n"
     ]
    }
   ],
   "source": [
    "run_game(game_list)"
   ]
  },
  {
   "cell_type": "code",
   "execution_count": 29,
   "id": "dc6bc24a-fc17-4a1a-98bc-dfde607fd5e3",
   "metadata": {},
   "outputs": [],
   "source": [
    "def my_func(a,b,c=0,d=0,e=0):\n",
    "    # Retunrs 5% of the sum of a and b\n",
    "    return sum((a,b,c,d,e)) *0.05"
   ]
  },
  {
   "cell_type": "code",
   "execution_count": 27,
   "id": "1359caa7-ad26-4e47-94d1-61b510e6edc5",
   "metadata": {},
   "outputs": [
    {
     "data": {
      "text/plain": [
       "5.0"
      ]
     },
     "execution_count": 27,
     "metadata": {},
     "output_type": "execute_result"
    }
   ],
   "source": [
    "my_func(40,60)"
   ]
  },
  {
   "cell_type": "code",
   "execution_count": 30,
   "id": "fa0b1be3-fc0a-4eba-81b2-668b9da4aeea",
   "metadata": {},
   "outputs": [
    {
     "data": {
      "text/plain": [
       "10.0"
      ]
     },
     "execution_count": 30,
     "metadata": {},
     "output_type": "execute_result"
    }
   ],
   "source": [
    "my_func(40,60,100)"
   ]
  },
  {
   "cell_type": "code",
   "execution_count": 31,
   "id": "b5f45377-2734-4ae6-add8-70a89039aa7e",
   "metadata": {},
   "outputs": [
    {
     "data": {
      "text/plain": [
       "15.0"
      ]
     },
     "execution_count": 31,
     "metadata": {},
     "output_type": "execute_result"
    }
   ],
   "source": [
    "my_func(40,60,100,100)"
   ]
  },
  {
   "cell_type": "code",
   "execution_count": 32,
   "id": "7f5d7977-26ae-4fc8-84ff-a9738ed2a948",
   "metadata": {},
   "outputs": [
    {
     "data": {
      "text/plain": [
       "19.0"
      ]
     },
     "execution_count": 32,
     "metadata": {},
     "output_type": "execute_result"
    }
   ],
   "source": [
    "my_func(40,60,100,100,80)"
   ]
  },
  {
   "cell_type": "code",
   "execution_count": 33,
   "id": "012edc7f-7189-4b52-8a9f-4554c9bb931b",
   "metadata": {},
   "outputs": [
    {
     "ename": "TypeError",
     "evalue": "my_func() takes from 2 to 5 positional arguments but 6 were given",
     "output_type": "error",
     "traceback": [
      "\u001b[31m---------------------------------------------------------------------------\u001b[39m",
      "\u001b[31mTypeError\u001b[39m                                 Traceback (most recent call last)",
      "\u001b[36mCell\u001b[39m\u001b[36m \u001b[39m\u001b[32mIn[33]\u001b[39m\u001b[32m, line 1\u001b[39m\n\u001b[32m----> \u001b[39m\u001b[32m1\u001b[39m \u001b[43mmy_func\u001b[49m\u001b[43m(\u001b[49m\u001b[32;43m40\u001b[39;49m\u001b[43m,\u001b[49m\u001b[32;43m60\u001b[39;49m\u001b[43m,\u001b[49m\u001b[32;43m100\u001b[39;49m\u001b[43m,\u001b[49m\u001b[32;43m100\u001b[39;49m\u001b[43m,\u001b[49m\u001b[32;43m90\u001b[39;49m\u001b[43m,\u001b[49m\u001b[32;43m100\u001b[39;49m\u001b[43m)\u001b[49m\n",
      "\u001b[31mTypeError\u001b[39m: my_func() takes from 2 to 5 positional arguments but 6 were given"
     ]
    }
   ],
   "source": [
    "my_func(40,60,100,100,90,100)"
   ]
  },
  {
   "cell_type": "code",
   "execution_count": 39,
   "id": "c99ddc77-d58f-4c78-bd11-6b8a509f2046",
   "metadata": {},
   "outputs": [],
   "source": [
    "def my_func(*args):\n",
    "    print(args)\n",
    "    for item in args:\n",
    "        print(item)\n",
    "    return sum(args)*0.05"
   ]
  },
  {
   "cell_type": "code",
   "execution_count": 40,
   "id": "c4be69cf-a066-45c3-8c90-887a432ae44f",
   "metadata": {},
   "outputs": [
    {
     "name": "stdout",
     "output_type": "stream",
     "text": [
      "(40, 60, 100, 80, 90)\n",
      "40\n",
      "60\n",
      "100\n",
      "80\n",
      "90\n"
     ]
    },
    {
     "data": {
      "text/plain": [
       "18.5"
      ]
     },
     "execution_count": 40,
     "metadata": {},
     "output_type": "execute_result"
    }
   ],
   "source": [
    "my_func(40,60,100,80,90)"
   ]
  },
  {
   "cell_type": "code",
   "execution_count": 51,
   "id": "98c29c03-0acc-4650-a707-bd0f4d9390d0",
   "metadata": {},
   "outputs": [],
   "source": [
    "def my_kwargs_func(**kwargs):\n",
    "    print(kwargs)\n",
    "    if 'fruit' in kwargs.keys():\n",
    "        print(f\"The fruit of my choice is {kwargs['fruit']}\")\n",
    "    elif 'veggies' in kwargs.keys():\n",
    "        print(f\"The veggies of my choice is {kwargs['veggies']}\")\n",
    "    else:\n",
    "        print(\"I did not pick any fruit\")"
   ]
  },
  {
   "cell_type": "code",
   "execution_count": 52,
   "id": "dda41e10-3c58-4282-852c-818a37f6aa23",
   "metadata": {},
   "outputs": [
    {
     "name": "stdout",
     "output_type": "stream",
     "text": [
      "{'fruit': 'fuckoff', 'veggies': 'fuckyou'}\n",
      "The fruit of my choice is fuckoff\n"
     ]
    }
   ],
   "source": [
    "my_kwargs_func(fruit='fuckoff',veggies='fuckyou')"
   ]
  },
  {
   "cell_type": "code",
   "execution_count": 54,
   "id": "35883ee8-79d8-430b-a16c-128ae746a220",
   "metadata": {},
   "outputs": [],
   "source": [
    "def my_args_func(*args,**kwargs):\n",
    "    print(args)\n",
    "    print(kwargs)\n",
    "    print(f\"I would like {args[0]}, {kwargs['food']}\")"
   ]
  },
  {
   "cell_type": "code",
   "execution_count": 55,
   "id": "ae6d014d-3fb6-4946-9391-4d7c27be2bcb",
   "metadata": {},
   "outputs": [
    {
     "name": "stdout",
     "output_type": "stream",
     "text": [
      "(10, 20, 30)\n",
      "{'fruit': 'fuckoff', 'food': 'dog shit', 'animal': 'dog'}\n",
      "I would like 10, dog shit\n"
     ]
    }
   ],
   "source": [
    "my_args_func(10,20,30,fruit='fuckoff',food='dog shit',animal='dog')"
   ]
  },
  {
   "cell_type": "code",
   "execution_count": null,
   "id": "432f66f7-270c-4b72-9b4a-6ee838dad6a3",
   "metadata": {},
   "outputs": [],
   "source": []
  }
 ],
 "metadata": {
  "kernelspec": {
   "display_name": "Python 3 (ipykernel)",
   "language": "python",
   "name": "python3"
  },
  "language_info": {
   "codemirror_mode": {
    "name": "ipython",
    "version": 3
   },
   "file_extension": ".py",
   "mimetype": "text/x-python",
   "name": "python",
   "nbconvert_exporter": "python",
   "pygments_lexer": "ipython3",
   "version": "3.13.5"
  }
 },
 "nbformat": 4,
 "nbformat_minor": 5
}
