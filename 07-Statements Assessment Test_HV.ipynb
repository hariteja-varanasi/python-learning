{
 "cells": [
  {
   "cell_type": "markdown",
   "metadata": {},
   "source": [
    "___\n",
    "\n",
    "<a href='https://www.udemy.com/user/joseportilla/'><img src='../Pierian_Data_Logo.png'/></a>\n",
    "___\n",
    "<center><em>Content Copyright by Pierian Data</em></center>"
   ]
  },
  {
   "cell_type": "markdown",
   "metadata": {
    "collapsed": true,
    "jupyter": {
     "outputs_hidden": true
    }
   },
   "source": [
    "# Statements Assessment Test\n",
    "Let's test your knowledge!"
   ]
  },
  {
   "cell_type": "markdown",
   "metadata": {},
   "source": [
    "_____\n",
    "**Use <code>for</code>, .split(), and <code>if</code> to create a Statement that will print out words that start with 's':**"
   ]
  },
  {
   "cell_type": "code",
   "execution_count": 6,
   "metadata": {},
   "outputs": [],
   "source": [
    "str = 'Print only the words that start with s in this sentence'"
   ]
  },
  {
   "cell_type": "code",
   "execution_count": 14,
   "metadata": {},
   "outputs": [
    {
     "name": "stdout",
     "output_type": "stream",
     "text": [
      "start\n",
      "s\n",
      "sentence\n"
     ]
    }
   ],
   "source": [
    "#Code here\n",
    "for word in str.split():\n",
    "    if (word[0] == 's'):\n",
    "        print(word)"
   ]
  },
  {
   "cell_type": "markdown",
   "metadata": {},
   "source": [
    "______\n",
    "**Use range() to print all the even numbers from 0 to 10.**"
   ]
  },
  {
   "cell_type": "code",
   "execution_count": 20,
   "metadata": {},
   "outputs": [
    {
     "name": "stdout",
     "output_type": "stream",
     "text": [
      "0\n",
      "1\n",
      "2\n",
      "3\n",
      "4\n",
      "5\n",
      "6\n",
      "7\n",
      "8\n",
      "9\n",
      "10\n"
     ]
    }
   ],
   "source": [
    "#Code Here\n",
    "numbers = list(range(0,11))\n",
    "for num in numbers:\n",
    "    print(num)"
   ]
  },
  {
   "cell_type": "markdown",
   "metadata": {},
   "source": [
    "___\n",
    "**Use a List Comprehension to create a list of all numbers between 1 and 50 that are divisible by 3.**"
   ]
  },
  {
   "cell_type": "code",
   "execution_count": 23,
   "metadata": {},
   "outputs": [
    {
     "data": {
      "text/plain": [
       "[3, 6, 9, 12, 15, 18, 21, 24, 27, 30, 33, 36, 39, 42, 45, 48]"
      ]
     },
     "execution_count": 23,
     "metadata": {},
     "output_type": "execute_result"
    }
   ],
   "source": [
    "#Code in this cell\n",
    "my_list = [x for x in range(1,51) if x%3 == 0]\n",
    "my_list"
   ]
  },
  {
   "cell_type": "markdown",
   "metadata": {},
   "source": [
    "_____\n",
    "**Go through the string below and if the length of a word is even print \"even!\"**"
   ]
  },
  {
   "cell_type": "code",
   "execution_count": 24,
   "metadata": {},
   "outputs": [],
   "source": [
    "st = 'Print every word in this sentence that has an even number of letters'"
   ]
  },
  {
   "cell_type": "code",
   "execution_count": 26,
   "metadata": {},
   "outputs": [
    {
     "name": "stdout",
     "output_type": "stream",
     "text": [
      "word\n",
      "in\n",
      "this\n",
      "sentence\n",
      "that\n",
      "an\n",
      "even\n",
      "number\n",
      "of\n"
     ]
    }
   ],
   "source": [
    "#Code in this cell\n",
    "st\n",
    "\n",
    "for word in st.split():\n",
    "    if len(word) %2 == 0:\n",
    "        print(word)"
   ]
  },
  {
   "cell_type": "markdown",
   "metadata": {},
   "source": [
    "____\n",
    "**Write a program that prints the integers from 1 to 100. But for multiples of three print \"Fizz\" instead of the number, and for the multiples of five print \"Buzz\". For numbers which are multiples of both three and five print \"FizzBuzz\".**"
   ]
  },
  {
   "cell_type": "code",
   "execution_count": 31,
   "metadata": {},
   "outputs": [
    {
     "name": "stdout",
     "output_type": "stream",
     "text": [
      "Fizz, num is 3\n",
      "Buzz, num is 5\n",
      "Fizz, num is 6\n",
      "Fizz, num is 9\n",
      "Buzz, num is 10\n",
      "Fizz, num is 12\n",
      "Fizz, num is 15\n",
      "FizzBuzz, num is 15\n",
      "Fizz, num is 18\n",
      "Buzz, num is 20\n",
      "Fizz, num is 21\n",
      "Fizz, num is 24\n",
      "Buzz, num is 25\n",
      "Fizz, num is 27\n",
      "Fizz, num is 30\n",
      "FizzBuzz, num is 30\n",
      "Fizz, num is 33\n",
      "Buzz, num is 35\n",
      "Fizz, num is 36\n",
      "Fizz, num is 39\n",
      "Buzz, num is 40\n",
      "Fizz, num is 42\n",
      "Fizz, num is 45\n",
      "FizzBuzz, num is 45\n",
      "Fizz, num is 48\n",
      "Buzz, num is 50\n",
      "Fizz, num is 51\n",
      "Fizz, num is 54\n",
      "Buzz, num is 55\n",
      "Fizz, num is 57\n",
      "Fizz, num is 60\n",
      "FizzBuzz, num is 60\n",
      "Fizz, num is 63\n",
      "Buzz, num is 65\n",
      "Fizz, num is 66\n",
      "Fizz, num is 69\n",
      "Buzz, num is 70\n",
      "Fizz, num is 72\n",
      "Fizz, num is 75\n",
      "FizzBuzz, num is 75\n",
      "Fizz, num is 78\n",
      "Buzz, num is 80\n",
      "Fizz, num is 81\n",
      "Fizz, num is 84\n",
      "Buzz, num is 85\n",
      "Fizz, num is 87\n",
      "Fizz, num is 90\n",
      "FizzBuzz, num is 90\n",
      "Fizz, num is 93\n",
      "Buzz, num is 95\n",
      "Fizz, num is 96\n",
      "Fizz, num is 99\n",
      "Buzz, num is 100\n"
     ]
    }
   ],
   "source": [
    "#Code in this cell\n",
    "my_list = [x for x in range(1,101)]\n",
    "my_list\n",
    "for num in my_list:\n",
    "    if num%3 == 0:\n",
    "        print(f\"Fizz, num is {num}\")\n",
    "    elif num%5 == 0:\n",
    "        print(f\"Buzz, num is {num}\")\n",
    "    if num%3==0 and num%5 == 0:\n",
    "        print(f\"FizzBuzz, num is {num}\")"
   ]
  },
  {
   "cell_type": "markdown",
   "metadata": {},
   "source": [
    "____\n",
    "**Use List Comprehension to create a list of the first letters of every word in the string below:**"
   ]
  },
  {
   "cell_type": "code",
   "execution_count": 32,
   "metadata": {},
   "outputs": [],
   "source": [
    "st = 'Create a list of the first letters of every word in this string'"
   ]
  },
  {
   "cell_type": "code",
   "execution_count": 36,
   "metadata": {},
   "outputs": [
    {
     "data": {
      "text/plain": [
       "['C', 'a', 'l', 'o', 't', 'f', 'l', 'o', 'e', 'w', 'i', 't', 's']"
      ]
     },
     "execution_count": 36,
     "metadata": {},
     "output_type": "execute_result"
    }
   ],
   "source": [
    "#Code in this cell\n",
    "\n",
    "my_list = [x[0] for x in st.split()]\n",
    "my_list"
   ]
  },
  {
   "cell_type": "markdown",
   "metadata": {},
   "source": [
    "### Great Job!"
   ]
  }
 ],
 "metadata": {
  "kernelspec": {
   "display_name": "Python 3 (ipykernel)",
   "language": "python",
   "name": "python3"
  },
  "language_info": {
   "codemirror_mode": {
    "name": "ipython",
    "version": 3
   },
   "file_extension": ".py",
   "mimetype": "text/x-python",
   "name": "python",
   "nbconvert_exporter": "python",
   "pygments_lexer": "ipython3",
   "version": "3.13.5"
  }
 },
 "nbformat": 4,
 "nbformat_minor": 4
}
